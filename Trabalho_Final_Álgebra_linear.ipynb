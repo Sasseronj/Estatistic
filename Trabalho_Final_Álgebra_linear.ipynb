{
  "cells": [
    {
      "cell_type": "markdown",
      "metadata": {
        "id": "view-in-github",
        "colab_type": "text"
      },
      "source": [
        "<a href=\"https://colab.research.google.com/github/Sasseronj/Estatistic/blob/main/Trabalho_Final_%C3%81lgebra_linear.ipynb\" target=\"_parent\"><img src=\"https://colab.research.google.com/assets/colab-badge.svg\" alt=\"Open In Colab\"/></a>"
      ]
    },
    {
      "cell_type": "markdown",
      "metadata": {
        "id": "ysfgANsHJr9Y"
      },
      "source": [
        "#<center><b>TRABALHO FINAL - ÁLGEBRA LINEAR</b></center>"
      ]
    },
    {
      "cell_type": "markdown",
      "metadata": {
        "id": "NNpIcqeEB0wk"
      },
      "source": [
        "# **Cabeçalho**\n",
        "\n",
        "   "
      ]
    },
    {
      "cell_type": "markdown",
      "metadata": {
        "id": "XyQY1s87CaHl"
      },
      "source": [
        "1. Disciplina \n",
        "  *  SME0142 - Álgebra Linear e Aplicações (2022) \n",
        "2. Docente\n",
        "  *  Cynthia de Oliveira Lage Ferreira\n",
        "3. Integrantes \n",
        "  *  Carlos Filipe de Castro Lemos, 12542630\n",
        "  *  João Gabriel Sasseron Roberto Amorim, 12542564  "
      ]
    },
    {
      "cell_type": "markdown",
      "metadata": {
        "id": "gh5tllj95G_l"
      },
      "source": [
        "# **Teoria**"
      ]
    },
    {
      "cell_type": "markdown",
      "metadata": {
        "id": "MC2QbT5h5NRL"
      },
      "source": [
        "## **Introdução**"
      ]
    },
    {
      "cell_type": "markdown",
      "metadata": {
        "id": "Y7hue-p55X4V"
      },
      "source": [
        "O primeiro método de criptografia registrado surgiu há milhares de anos, com a civilização egípcia que empregava hieróglifos para a inscrição monumental e mitificação de seus costumes. Assim, desde os tempos passadas, a criptografia já era manuseada como meio de segurança para manter informações sigilosas.\n",
        "\n"
      ]
    },
    {
      "cell_type": "markdown",
      "metadata": {
        "id": "ln08_sf9AW8F"
      },
      "source": [
        "Porém, com o avanço tencnológico e a intensa utilização da computação para o armazenamento de dados, a criptografia tornou-se extremamente importante para a civilição contemorânea. Pois, ela é a encarregada de manter informações privadas, como, por exemplo, senhas, dados, informações e outros.\n",
        "\n"
      ]
    },
    {
      "cell_type": "markdown",
      "metadata": {
        "id": "BxHcBJFYAX77"
      },
      "source": [
        "Nesse contexto, a álgebra linear é instrumento de suma importância para a manipulação da criptografia. Afinal, ela é capaz de ordenar e modificar esses objetos através de transformações, estruturas e afins.\n",
        "\n"
      ]
    },
    {
      "cell_type": "markdown",
      "metadata": {
        "id": "7R_rdHa1AY8K"
      },
      "source": [
        "Neste trabalho, iremos emprerar a criptografia de dados em formas matriciais."
      ]
    },
    {
      "cell_type": "markdown",
      "metadata": {
        "id": "r06FJSTguFVd"
      },
      "source": [
        "## **Matrizes e criptografia**\n"
      ]
    },
    {
      "cell_type": "markdown",
      "metadata": {
        "id": "kUgTEhf8EAMg"
      },
      "source": [
        "Embora existam muitos meios de se utilizar matrizes em criptografia, a forma mais simples é por meio de matrizes inversas. Assim, para a explicação do modelo empregado, serão consideradas as matrizes $A$ e $B$, sendo $B$ a inversa de $A$. Abaixo, segue um exemplo em que a matriz $A$ irá codificar a mensagem e a matriz $B$ será usada para sua decodificação."
      ]
    },
    {
      "cell_type": "markdown",
      "metadata": {
        "id": "xGoKQB1vwL4D"
      },
      "source": [
        "$$\n",
        "  A = \\begin{bmatrix} 1 & 3\\\\ 1 & 5\\end{bmatrix}\n",
        "  \\quad e \\quad\n",
        "  B = \\begin{bmatrix} 2.5 & -1.5\\\\ -0.5 & 0.5\\end{bmatrix}\n",
        "$$"
      ]
    },
    {
      "cell_type": "markdown",
      "metadata": {
        "id": "Job6ZGDDEIUy"
      },
      "source": [
        "O passo inicial para a codificação da mensagem é transformar os caracteres do alfabeto (símbolos) para algarismos, cuja correspondência será a tabela ASCII - lembrando que essa tabela deve ser do conhecimento tanto do remetente quanto do destinatário. Por exemplo:"
      ]
    },
    {
      "cell_type": "markdown",
      "metadata": {
        "id": "tACFPip4EKIF"
      },
      "source": [
        "\\begin{array}{|ccc|}\n",
        "  \\hline\n",
        "  A  & B  & C  & D  & E  & F  & G  & H  & I  & J  \\\\\n",
        "  65  & 66  & 67  & 68  & 69  & 70  & 71  & 72  & 73  & 74 \\\\\n",
        "  \\hline\n",
        "  K  & L  & M  & N  & O  & P  & Q  & R  & S  & T  \\\\\n",
        "  75  & 76  & 77  & 78  & 79  & 80  & 81  & 82  & 83  & 84 \\\\\n",
        "  \\hline\n",
        "  U  & V  & W  & X  & Y  & Z  & .  & !  & \\# &    \\\\\n",
        "  85  & 86  & 87  & 88  & 89  & 90  & 35  & 33  & 83  & 240 \\\\\n",
        "  \\hline\n",
        "\\end{array}"
      ]
    },
    {
      "cell_type": "markdown",
      "metadata": {
        "id": "frHMVCq2EMeo"
      },
      "source": [
        "Agora, somos capazes de codificar uma mensagem, utilizando técnicas de pré-processamento, e, por isso, transformaremos a mensagem \"ALGEBRA LINEAR\" na seguinte expressão e codificação:\n",
        "  ."
      ]
    },
    {
      "cell_type": "markdown",
      "metadata": {
        "id": "YXf31FqjEOd0"
      },
      "source": [
        "\\begin{array}{ccc}\n",
        "  \\textbf{ALGEBRA#LINEAR}\n",
        "\\end{array}\n"
      ]
    },
    {
      "cell_type": "markdown",
      "metadata": {
        "id": "rr2L8btLvw5g"
      },
      "source": [
        "\\begin{array}{ccc}\n",
        "   65& 76& 71& 69& 66& 82& 65& 35& 76 & 73 & 78 & 69 & 65 & 82\n",
        "\\end{array}"
      ]
    },
    {
      "cell_type": "markdown",
      "metadata": {
        "id": "_QhevW3UEGSw"
      },
      "source": [
        "O símbolo $\\#$ serve para não haver erros de leitura na língua portugesa após a decodificação da mensagem.\n",
        "\n",
        "Na sequência, iremos transladar a lista de números em uma matriz de duas linhas, observando que, se o número de elemestos for ímpar, deve-se acrescentar uma caractere vazio."
      ]
    },
    {
      "cell_type": "markdown",
      "metadata": {
        "id": "jvVsTeaDEyux"
      },
      "source": [
        "$$\n",
        "  M = \\begin{bmatrix} 65 & 76 & 71 & 69 & 66 & 82 & 65 \\\\ 35 & 76 & 73 & 78 & 69 & 65 & 82\\end{bmatrix}\n",
        "$$"
      ]
    },
    {
      "cell_type": "markdown",
      "metadata": {
        "id": "uiYr_Ks5FSfV"
      },
      "source": [
        "Deste modo, para a codificar a mensagem, multiplicamos a matriz $A$ por $M$, tal que $N = A \\cdot M$."
      ]
    },
    {
      "cell_type": "markdown",
      "metadata": {
        "id": "bKrSqCBZFodV"
      },
      "source": [
        "$$\n",
        "N = \\begin{bmatrix} 1 & 3\\\\ 1 & 5\\end{bmatrix} \\cdot \\begin{bmatrix} 65 & 76 & 71 & 69 & 66 & 82 & 65 \\\\ 35 & 76 & 73 & 78 & 69 & 65 & 82\\end{bmatrix}\\\\\n",
        "$$"
      ]
    },
    {
      "cell_type": "markdown",
      "metadata": {
        "id": "EonuEaYLsTix"
      },
      "source": [
        "$$\n",
        "N = \\begin{bmatrix} 170 & 304 & 290 & 303 & 273 & 277 & 311 \\\\ 240 & 456 & 436 & 459 & 411 & 407 & 475\\end{bmatrix}\n",
        "$$"
      ]
    },
    {
      "cell_type": "markdown",
      "metadata": {
        "id": "ed9ecRzJsUpc"
      },
      "source": [
        "Assim, a matriz $N$ representa a mensagem codificada: \n"
      ]
    },
    {
      "cell_type": "markdown",
      "metadata": {
        "id": "o5UOkC2BsOkz"
      },
      "source": [
        "$$\n",
        "\\begin{array} 1170 & 304 & 290 & 303 & 273 & 277 & 311 & 240 & 456 & 436 & 459 & 411 & 407 & 475\\end{array}\n",
        "$$"
      ]
    },
    {
      "cell_type": "markdown",
      "metadata": {
        "id": "4ZRr7mHjtFW3"
      },
      "source": [
        "Com a mensagems em mãos, o destinatário será capaz de decodificar a mensagem,  atráves da matriz inversa $B$.\n",
        "\n",
        "\n"
      ]
    },
    {
      "cell_type": "markdown",
      "metadata": {
        "id": "O63GUbkxu81X"
      },
      "source": [
        "Sabendo que $B \\cdot N = B \\cdot A \\cdot M= I \\cdot M = M$, temos que $M = B \\cdot N$. \n",
        "\n"
      ]
    },
    {
      "cell_type": "markdown",
      "metadata": {
        "id": "SElT8Xjru_18"
      },
      "source": [
        "Dessa forma, multiplicamos a matriz $B$ por $N$ e obetmos o seguinte resultado:"
      ]
    },
    {
      "cell_type": "markdown",
      "metadata": {
        "id": "_Sjj9dyetddA"
      },
      "source": [
        "$$\n",
        "M = \\begin{bmatrix} 2.5 & -1.5\\\\ -0.5 & 0.5\\end{bmatrix} ⋅ \\begin{bmatrix} 170 & 304 & 290 & 303 & 273 & 277 & 311 \\\\ 240 & 456 & 436 & 459 & 411 & 407 & 475\\end{bmatrix}\n",
        "$$"
      ]
    },
    {
      "cell_type": "markdown",
      "metadata": {
        "id": "o4yJxkjPubeO"
      },
      "source": [
        "$$\n",
        "M = \\begin{bmatrix} 65 & 76 & 71 & 69 & 66 & 82 & 65 \\\\ 35 & 76 & 73 & 78 & 69 & 65 & 82\\end{bmatrix}\n",
        "$$"
      ]
    },
    {
      "cell_type": "markdown",
      "metadata": {
        "id": "Pce63xXfu43F"
      },
      "source": [
        "Pro fim, encontramos a matriz original $M$. Em seguida, utilizamos a tabaleas ASCII, novamente, para transformar os algarismo em caracteres. Assim, com a transformação, temos:"
      ]
    },
    {
      "cell_type": "markdown",
      "metadata": {
        "id": "4VdT3V09vfdz"
      },
      "source": [
        "\\begin{array}{ccc}\n",
        "   65& 76& 71& 69& 66& 82& 65& 35& 76 & 73 & 78 & 69 & 65 & 82\n",
        "\\end{array}\n"
      ]
    },
    {
      "cell_type": "markdown",
      "metadata": {
        "id": "phQsQ6zQtpzE"
      },
      "source": [
        "\\begin{array}{ccc}\n",
        "  \\textbf{ALGEBRA#LINEAR}\n",
        "\\end{array}"
      ]
    },
    {
      "cell_type": "markdown",
      "metadata": {
        "id": "0vJXcqURuUdI"
      },
      "source": [
        "# **Aplicação**"
      ]
    },
    {
      "cell_type": "markdown",
      "metadata": {
        "id": "3tNdzoTAy4Hf"
      },
      "source": [
        "A teoria descrita acima será aplicada no código abaixo, seguindo as expecificações dadas."
      ]
    },
    {
      "cell_type": "code",
      "execution_count": null,
      "metadata": {
        "id": "c7fD2MWlgznl"
      },
      "outputs": [],
      "source": [
        "import numpy as np"
      ]
    },
    {
      "cell_type": "markdown",
      "metadata": {
        "id": "TIAeDJViGRn3"
      },
      "source": [
        "## ***Bloco Comum***"
      ]
    },
    {
      "cell_type": "code",
      "execution_count": null,
      "metadata": {
        "id": "d1O-RqDHCB4Y"
      },
      "outputs": [],
      "source": [
        "def menu() -> int:\n",
        "    print(\"\")\n",
        "    print(\"\")\n",
        "    print(\"####### MENU PROGRAMA DE CRIPTOGRAFIA #######\")\n",
        "    print(\"#                                           #\")\n",
        "    print(\"# 1) Encriptar Mensagem                     #\")\n",
        "    print(\"# 2) Desencriptar Mensagem                  #\")\n",
        "    print(\"# 3) Sobre o programa                       #\")\n",
        "    print(\"# 4) Sair                                   #\")\n",
        "    print(\"#                                           #\")\n",
        "    print(\"#############################################\")"
      ]
    },
    {
      "cell_type": "code",
      "execution_count": null,
      "metadata": {
        "id": "6GYJp1mmMdda"
      },
      "outputs": [],
      "source": [
        "def sobre():\n",
        "    print(\"\")\n",
        "    print(\"\")\n",
        "    print(\"#######    PROGRAMA DE CRIPTOGRAFIA   #######\")\n",
        "    print(\"#                                           #\")\n",
        "    print(\"#   Programa criado por                     #\")\n",
        "    print(\"#   - Carlos Filipe de C. Lemos (12542630)  #\")\n",
        "    print(\"#   - João Gabriel S. R. Amorim  (12542564) #\")\n",
        "    print(\"#                                           #\")\n",
        "    print(\"#############################################\")\n",
        "    print(\"\")"
      ]
    },
    {
      "cell_type": "code",
      "execution_count": null,
      "metadata": {
        "id": "ngHipnXQhAvy"
      },
      "outputs": [],
      "source": [
        "def coletar_numeros_criptograficos() -> np.array:\n",
        "    m = []\n",
        "    print(\"Digite 4 números que serão usados na manipulação da mensagem:\")\n",
        "    contador = 0\n",
        "    while contador != 4:\n",
        "        leitura = input(\"Numero \" + str(contador+1) + \": \")        \n",
        "        if leitura == '':\n",
        "          pass\n",
        "        elif leitura.isdigit():\n",
        "            m.append(int(leitura))\n",
        "            contador += 1\n",
        "\n",
        "    return np.array(m).reshape(2, 2)"
      ]
    },
    {
      "cell_type": "markdown",
      "metadata": {
        "id": "VoE3YZDhGvA7"
      },
      "source": [
        "## ***Bloco de Manipulação da Mensagem***"
      ]
    },
    {
      "cell_type": "code",
      "execution_count": null,
      "metadata": {
        "id": "pyzMONOHl1ac"
      },
      "outputs": [],
      "source": [
        "def traduz_char_int(mensagem) -> list:\n",
        "  lista = []\n",
        "\n",
        "  # A partir da mensagem em caracteres, transforma\n",
        "  # em algarismos da tabela ASCII.\n",
        "  for letra in mensagem:\n",
        "      lista.append(ord(letra))\n",
        "\n",
        "  return lista"
      ]
    },
    {
      "cell_type": "code",
      "execution_count": null,
      "metadata": {
        "id": "df6sdzGQnzXR"
      },
      "outputs": [],
      "source": [
        "def preparando_mensagem(mensagem) -> str:\n",
        "  mensagem = mensagem.replace(' ', '#')\n",
        "\n",
        "  # Caso a mensagem tenha tamanho ímpar, adiciona\n",
        "  # o caractere espaço ao seu fim.\n",
        "  if len(mensagem) % 2 != 0:\n",
        "    mensagem += \"#\"\n",
        "  return mensagem"
      ]
    },
    {
      "cell_type": "code",
      "execution_count": null,
      "metadata": {
        "id": "KZdje8YmHSUj"
      },
      "outputs": [],
      "source": [
        "def despreparar_mensagem(desencriptado) -> str:\n",
        "    mensagem = ''\n",
        "\n",
        "    # Percorre toda a mensagem, transformando os \n",
        "    # algarismos em caracteres, segundo a tabela\n",
        "    # ASCII.\n",
        "    for x in desencriptado:\n",
        "        for y in x:\n",
        "\n",
        "            # Aproxima o seu ponto flutuante para o \n",
        "            # inteiro  mais próximo. Assim, evitando\n",
        "            # o problema do python de sempre arredondar\n",
        "            # para baixo.\n",
        "            caracter = chr(int(round(float(y), 0)))\n",
        "            if caracter == '#':\n",
        "              mensagem = mensagem + ' '\n",
        "            else:\n",
        "              mensagem = mensagem + caracter\n",
        "    return mensagem"
      ]
    },
    {
      "cell_type": "code",
      "execution_count": null,
      "metadata": {
        "id": "CCKZqfacHyFs"
      },
      "outputs": [],
      "source": [
        "def lendo_mensagem_codificada() -> np.array:\n",
        "\n",
        "    # Mensagens nencessárias para coordenar o usuário para inserir os dados.\n",
        "    print(\"Digite a mensagem codificada em numeros (quando terminar, digite 's' para sair): \")\n",
        "    print(\"\")\n",
        "    alfanumerico = str()\n",
        "    mensagem = np.array([]) \n",
        "    numero = 0\n",
        "    while alfanumerico != 's':\n",
        "        alfanumerico = input(\"Digite o número \" + str(numero +1)+ \": \")\n",
        "        if alfanumerico == '':\n",
        "            pass\n",
        "        elif alfanumerico.isdigit():\n",
        "            mensagem = np.append(mensagem,[int(alfanumerico)])\n",
        "            numero += 1\n",
        "        elif alfanumerico == 'encriptado':\n",
        "            mensagem = alfanumerico\n",
        "            break\n",
        "    return mensagem\n"
      ]
    },
    {
      "cell_type": "code",
      "execution_count": null,
      "metadata": {
        "id": "D4XiPZBblG3w"
      },
      "outputs": [],
      "source": [
        "def lendo_mensagem():\n",
        "    return input(\"\\nDigite a mensagem que deseja criptografar: \")"
      ]
    },
    {
      "cell_type": "markdown",
      "metadata": {
        "id": "Xb72JCciFyZj"
      },
      "source": [
        "## ***Bloco de Encriptação***\n",
        "\n"
      ]
    },
    {
      "cell_type": "code",
      "execution_count": null,
      "metadata": {
        "id": "Dw-qM3aFhDOI"
      },
      "outputs": [],
      "source": [
        "def verificar_independencia_linear(m: np.array) -> bool:\n",
        "    \n",
        "    # Função responsável por verificar se a matriz $A$ fornecida é invertível. \n",
        "    # Para isso, checa se o Det(A) é igual a 0, caso seja, retorna falso, \n",
        "    # caso contrário, a matriz atende as especificações e retorna verdadeiro.\n",
        "    if np.linalg.det(m) == 0:\n",
        "        return False\n",
        "    return True"
      ]
    },
    {
      "cell_type": "code",
      "execution_count": null,
      "metadata": {
        "id": "ivDVd6beDzwo"
      },
      "outputs": [],
      "source": [
        "def encriptar_mensagem():\n",
        "    # Sequencia: a) Lê a mensagem; b) Prepara a mensagem; c) Transforma em lista ASCII.\n",
        "    mensagem = lendo_mensagem()\n",
        "    lista = traduz_char_int(preparando_mensagem(mensagem))    \n",
        "    print(\"Mensagem: \", mensagem)\n",
        "    print(\"Mensagem em ASCII: \", lista)\n",
        "\n",
        "    # Transformar a mensagem em uma matriz de 2 linhas e n colunas\n",
        "    matriz_mensagem = np.array(lista).reshape(2, int(len(lista)/2))\n",
        "    print(\"Matriz mensagem: \\n\", matriz_mensagem)\n",
        "\n",
        "    # Cria matriz encriptadora a partir de dados informados pelo usuário\n",
        "    matriz_encriptadora = np.array\n",
        "    matriz_encriptadora = coletar_numeros_criptograficos()\n",
        "    while verificar_independencia_linear(matriz_encriptadora) is not True:\n",
        "        print(\"Os números usados não são inversíveis!\")\n",
        "        matriz_encriptadora = np.array(coletar_numeros_criptograficos()).reshape(2, 2)\n",
        "    print(\"Matriz Encriptadora: \\n\", matriz_encriptadora)\n",
        "\n",
        "    # Encriptando: N = A * M \n",
        "    encriptado = matriz_encriptadora @ matriz_mensagem \n",
        "    print(\"Mensagem encriptada: \\n\", encriptado)\n",
        "\n",
        "    return matriz_encriptadora, encriptado, mensagem\n",
        "    "
      ]
    },
    {
      "cell_type": "markdown",
      "metadata": {
        "id": "-vBjhn0uF82G"
      },
      "source": [
        "## ***Bloco de Desencriptação***"
      ]
    },
    {
      "cell_type": "code",
      "execution_count": null,
      "metadata": {
        "id": "1vk9DobJnp1g"
      },
      "outputs": [],
      "source": [
        "def cria_matriz_inversa(matriz_encriptadora: np.array) -> np.array:\n",
        "    \n",
        "    # Cria a matriz inversa para possibiltiar a desincriptação\n",
        "    # da mensagem forncida pelo usuário.\n",
        "    matriz_desencriptadora = np.zeros((2, 2), dtype=int)\n",
        "    matriz_desencriptadora = np.linalg.inv(matriz_encriptadora)\n",
        "    return matriz_desencriptadora"
      ]
    },
    {
      "cell_type": "code",
      "execution_count": null,
      "metadata": {
        "id": "RUURidrSD3ej"
      },
      "outputs": [],
      "source": [
        "def desencriptar_mensagem(matriz_encriptadora: np.array, encriptado: np.array, mensagem: str):\n",
        "    # Leitura da mensagem a ser desincriptada\n",
        "    mensagem_usuario = lendo_mensagem_codificada()\n",
        "\n",
        "    # Aplicação dos processos necessários.\n",
        "    if type(mensagem_usuario) == str and mensagem_usuario == 'encriptado':\n",
        "        mensagem_usuario = encriptado\n",
        "        matriz = matriz_encriptadora \n",
        "    else:\n",
        "        mensagem_usuario = mensagem_usuario.reshape(2, int(len(mensagem_usuario)/2))\n",
        "        matriz = coletar_numeros_criptograficos()\n",
        "\n",
        "    print(\"Matriz da Mensagem Encriptada: \\n\", mensagem_usuario)\n",
        "\n",
        "    # Matriz invesa\n",
        "    matriz_desencriptadora = cria_matriz_inversa(matriz) \n",
        "    print(\"Matriz Desencriptadora: \\n\", matriz_desencriptadora)\n",
        "\n",
        "    # Desencriptando: M = B * N \n",
        "    desencriptado = matriz_desencriptadora @ mensagem_usuario \n",
        "    print(\"Desencriptado: \\n\", desencriptado)\n",
        "\n",
        "    desencriptado = desencriptado.tolist()\n",
        "    mensagem_usuario = despreparar_mensagem(desencriptado)\n",
        "    print(\"Mensagem Desencriptada: \")\n",
        "    print(mensagem_usuario)\n"
      ]
    },
    {
      "cell_type": "markdown",
      "metadata": {
        "id": "22MGgUKHJY-l"
      },
      "source": [
        "## ***Bloco de Execução do Programa***"
      ]
    },
    {
      "cell_type": "code",
      "execution_count": null,
      "metadata": {
        "colab": {
          "base_uri": "https://localhost:8080/"
        },
        "id": "CE04xY2phGpg",
        "outputId": "ae686a06-17ed-4e7f-baaf-1aaf78abc76e"
      },
      "outputs": [
        {
          "name": "stdout",
          "output_type": "stream",
          "text": [
            "\n",
            "\n",
            "####### MENU PROGRAMA DE CRIPTOGRAFIA #######\n",
            "#                                           #\n",
            "# 1) Encriptar Mensagem                     #\n",
            "# 2) Desencriptar Mensagem                  #\n",
            "# 3) Sobre o programa                       #\n",
            "# 4) Sair                                   #\n",
            "#                                           #\n",
            "#############################################\n",
            "Digite a opção desejada:1\n",
            "\n",
            "Digite a mensagem que deseja criptografar: Testando o programa\n",
            "Mensagem:  Testando o programa\n",
            "Mensagem em ASCII:  [84, 101, 115, 116, 97, 110, 100, 111, 35, 111, 35, 112, 114, 111, 103, 114, 97, 109, 97, 35]\n",
            "Matriz mensagem: \n",
            " [[ 84 101 115 116  97 110 100 111  35 111]\n",
            " [ 35 112 114 111 103 114  97 109  97  35]]\n",
            "Digite 4 números que serão usados na manipulação da mensagem:\n",
            "Numero 1: 1\n",
            "Numero 2: 2\n",
            "Numero 3: 3\n",
            "Numero 4: 4\n",
            "Matriz Encriptadora: \n",
            " [[1 2]\n",
            " [3 4]]\n",
            "Mensagem encriptada: \n",
            " [[154 325 343 338 303 338 294 329 229 181]\n",
            " [392 751 801 792 703 786 688 769 493 473]]\n",
            "\n",
            "\n",
            "####### MENU PROGRAMA DE CRIPTOGRAFIA #######\n",
            "#                                           #\n",
            "# 1) Encriptar Mensagem                     #\n",
            "# 2) Desencriptar Mensagem                  #\n",
            "# 3) Sobre o programa                       #\n",
            "# 4) Sair                                   #\n",
            "#                                           #\n",
            "#############################################\n",
            "Digite a opção desejada:2\n",
            "Digite a mensagem codificada em numeros (quando terminar, digite 's' para sair): \n",
            "\n",
            "Digite o número 1: encriptado\n",
            "Matriz da Mensagem Encriptada: \n",
            " [[154 325 343 338 303 338 294 329 229 181]\n",
            " [392 751 801 792 703 786 688 769 493 473]]\n",
            "Matriz Desencriptadora: \n",
            " [[-2.   1. ]\n",
            " [ 1.5 -0.5]]\n",
            "Desencriptado: \n",
            " [[ 84. 101. 115. 116.  97. 110. 100. 111.  35. 111.]\n",
            " [ 35. 112. 114. 111. 103. 114.  97. 109.  97.  35.]]\n",
            "Mensagem Desencriptada: \n",
            "Testando o programa \n",
            "\n",
            "\n",
            "####### MENU PROGRAMA DE CRIPTOGRAFIA #######\n",
            "#                                           #\n",
            "# 1) Encriptar Mensagem                     #\n",
            "# 2) Desencriptar Mensagem                  #\n",
            "# 3) Sobre o programa                       #\n",
            "# 4) Sair                                   #\n",
            "#                                           #\n",
            "#############################################\n",
            "Digite a opção desejada:3\n",
            "\n",
            "\n",
            "#######    PROGRAMA DE CRIPTOGRAFIA   #######\n",
            "#                                           #\n",
            "#   Programa criado por                     #\n",
            "#   - Carlos Filipe de C. Lemos (12542630)  #\n",
            "#   - João Gabriel S. R. Amorim  (12542564) #\n",
            "#                                           #\n",
            "#############################################\n",
            "\n",
            "\n",
            "\n",
            "####### MENU PROGRAMA DE CRIPTOGRAFIA #######\n",
            "#                                           #\n",
            "# 1) Encriptar Mensagem                     #\n",
            "# 2) Desencriptar Mensagem                  #\n",
            "# 3) Sobre o programa                       #\n",
            "# 4) Sair                                   #\n",
            "#                                           #\n",
            "#############################################\n",
            "Digite a opção desejada:4\n"
          ]
        }
      ],
      "source": [
        "matriz_encriptadora = np.array\n",
        "encriptado = np.array\n",
        "mensagem = str()\n",
        "opcao = 0\n",
        "\n",
        "while(opcao != 4):\n",
        "    menu()\n",
        "    opcao = int(input(\"Digite a opção desejada:\"))\n",
        "\n",
        "    # Menu de opções do programa\n",
        "    if opcao == 1:\n",
        "        matriz_encriptadora, encriptado, mensagem = encriptar_mensagem()\n",
        "    elif opcao == 2:\n",
        "        desencriptar_mensagem(matriz_encriptadora, encriptado, mensagem)\n",
        "    elif opcao == 3:\n",
        "        sobre()"
      ]
    }
  ],
  "metadata": {
    "colab": {
      "collapsed_sections": [
        "ysfgANsHJr9Y",
        "NNpIcqeEB0wk",
        "gh5tllj95G_l",
        "MC2QbT5h5NRL",
        "r06FJSTguFVd",
        "TIAeDJViGRn3",
        "VoE3YZDhGvA7",
        "Xb72JCciFyZj",
        "-vBjhn0uF82G"
      ],
      "provenance": [],
      "include_colab_link": true
    },
    "kernelspec": {
      "display_name": "Python 3",
      "name": "python3"
    },
    "language_info": {
      "name": "python"
    }
  },
  "nbformat": 4,
  "nbformat_minor": 0
}